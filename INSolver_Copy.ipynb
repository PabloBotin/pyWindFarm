{
  "metadata": {
    "kernelspec": {
      "name": "python",
      "display_name": "Python (Pyodide)",
      "language": "python"
    },
    "language_info": {
      "codemirror_mode": {
        "name": "python",
        "version": 3
      },
      "file_extension": ".py",
      "mimetype": "text/x-python",
      "name": "python",
      "nbconvert_exporter": "python",
      "pygments_lexer": "ipython3",
      "version": "3.8"
    }
  },
  "nbformat_minor": 5,
  "nbformat": 4,
  "cells": [
    {
      "id": "6e64fda2-c634-4885-8059-1be563f8b06b",
      "cell_type": "markdown",
      "source": "# Incompressible Navier Stokes Solver",
      "metadata": {}
    },
    {
      "id": "cc710ab5-a299-439f-a122-1a9cea7146f2",
      "cell_type": "markdown",
      "source": "# Index\n1. [Introduction](#Introduction)\n2. [Governing Equations](#Governing-Equations)\n    - [Continuity equation](#Continuity-equation)\n    - [Momentum equations](#Momentum-equations)\n    - [Challenges in Solving the Incompressible Navier-Stokes Equations](#Challenges-in-Solving-the-Incompressible-Navier-Stokes-Equations)\n4. [Discretization](#Discretization)\n5. [Grid Types](#Grid-Types)\n6. [Algorithm](#Algorithm)\n7. [Poisson solver](#Poisson-solver)\n   - [Jacobi](#Jacobi)\n   - [Gauss-Seidel](#Gauss-Seidel)\n8. [Results](#results)\n9. [Conclusion](#conclusion)",
      "metadata": {}
    },
    {
      "id": "f54ccf25-e43c-44c1-9c8c-9453370f4313",
      "cell_type": "markdown",
      "source": "# Introduction\nFluid dynamics plays a vital role in understanding natural phenomena and designing engineering systems. From the flow of air around an airplane wing to the movement of water in rivers, the behavior of fluids is governed by a set of partial differential equations known as the Navier-Stokes equations.\n\nThis notebook focuses on the design of a computational method to solve the 2D incompressible Navier-Stokes equations, which describe the motion of fluids with constant density. These equations are widely applicable in scenarios where density variations are negligible, such as liquid flows or low-speed gas flows.\n\nThis notebook introduces the incompressible Navier-Stokes equations, examines the challenges involved in solving them, and presents a numerical solver designed to address these challenges efficiently, comparing different types of mesh, interpolation and iterative solvers. ",
      "metadata": {}
    },
    {
      "id": "1be12806-0ee3-4bc2-8515-7afe785a972c",
      "cell_type": "markdown",
      "source": "# Governing Equations\nThe incompressible Navier-Stokes equations describe the motion of fluid flows where the density remains constant. These equations are fundamental in fluid dynamics and are used to model a wide variety of physical phenomena, such as airflow over airplane wings or water flow through pipes. The original motivation to develop this solver was to model the wake formation of wind turbines in a wind farm.\n\nThe equations consist of two main components:\n\n* **Continuity Equation:** Ensures the conservation of mass in incompressible flows.\n* **Momentum Equations:** Represent the conservation of momentum and describe how the velocity field evolves over time due to various forces.\n## Continuity equation\nThe continuity equation ensures the conservation of mass in incompressible flows. For a velocity field \nu, the equation is written as $$∇⋅u= 0$$ In 2D derivative form, it becomes:  $$\\frac{\\partial u}{\\partial x} + \\frac{\\partial v}{\\partial y} = 0$$\n## Momentum equations\nThe momentum equations describe the conservation of momentum in the fluid. For incompressible flows, they are expressed as:\n$$\\frac{\\partial \\mathbf{u}}{\\partial t} + (\\mathbf{u} \\cdot \\nabla)\\mathbf{u} = -\\frac{1}{\\rho} \\nabla p + \\nu \\nabla^2 \\mathbf{u} + \\mathbf{f}$$\n2D derivative form:\n\n**x-Momentum:**\n$$\\frac{\\partial u}{\\partial t} + u \\frac{\\partial u}{\\partial x} + v \\frac{\\partial u}{\\partial y} = -\\frac{1}{\\rho} \\frac{\\partial p}{\\partial x} + \\nu \\left( \\frac{\\partial^2 u}{\\partial x^2} + \\frac{\\partial^2 u}{\\partial y^2} \\right)$$\n**y-Momentum:**\n$$\\frac{\\partial v}{\\partial t} + u \\frac{\\partial v}{\\partial x} + v \\frac{\\partial v}{\\partial y} = -\\frac{1}{\\rho} \\frac{\\partial p}{\\partial y} + \\nu \\left( \\frac{\\partial^2 v}{\\partial x^2} + \\frac{\\partial^2 v}{\\partial y^2} \\right)$$\n## EXPLAIN EACH OF THE TERMS ????\n\n\n",
      "metadata": {}
    },
    {
      "id": "ef8b1364-8274-4a5c-9f78-36a5e6db502b",
      "cell_type": "markdown",
      "source": "## Challenges in Solving the Incompressible Navier-Stokes Equations\n\n### Coupling Between Velocity and Pressure\nA key challenge in solving the incompressible Navier-Stokes equations is the coupling between the velocity u and the pressure p. In this version of the equations, they appear to be decoupled, however they must be copied because: \n* The velocity field influences the pressure distribution.\n* The pressure must ensure that the velocity field satisfies the incompressibility constraint $$\n\\frac{\\partial u}{\\partial x} + \\frac{\\partial v}{\\partial y} = 0\n$$\nThis coupling leads to:\n\n* No explicit equation for pressure: The pressure field must be computed indirectly through the velocity field.\n* Pressure-velocity decoupling issues: Without careful numerical treatment, unphysical solutions may arise.\n\nGiven the lack of a direct link for pressure in between continuity and momentum equations, an additional Poisson equation can be derived to substitute the continuity equation. \n## Explain the derivation of that equation HERE (check my Ipad and LB notes). \n\n### Nonlinearity of the Momentum Equations\nThe advection term $(\\mathbf{u} \\cdot \\nabla)\\mathbf{u}$ in the momentum equations introduces nonlinearity, leading to:\n* Instabilities: Numerical errors may grow exponentially without stabilization techniques.\n* High computational cost: Iterative solvers are often required for convergence.\n### Boundary Conditions\nProperly specifying boundary conditions is critical but can be challenging. Common issues include:\n* Matching inflow and outflow conditions.\n* Satisfying the no-slip condition at solid walls.\n* Divergence close to the boundaries. \n  \n### Discretization Challenges\nNumerical solvers rely on discretizing the equations, which introduces its own set of challenges:\n* Accuracy vs. computational cost: High-resolution grids improve accuracy but increase computational demands.\n* Numerical diffusion: Excessive artificial smoothing of the solution can obscure key flow features.\n* Pressure-velocity consistency: Ensuring that the discrete velocity field satisfies continuity.\n",
      "metadata": {}
    },
    {
      "id": "83c7ffd5-f691-48f1-92cb-9521e85e1301",
      "cell_type": "markdown",
      "source": "# Discretization \nEXPLAIN how the equations were discretized on the staggered (and collocated) grid, including the different used interpolations. ",
      "metadata": {}
    },
    {
      "id": "1b0263cf-6189-471b-9dc4-7443cca803f7",
      "cell_type": "markdown",
      "source": "# Grid Types \nNumerical solvers for the incompressible Navier-Stokes equations often use structured grids to discretize the computational domain. Two common types of grids are **collocated grids** and **staggered grids**. This section explains these grid configurations, discusses why staggered grids are often preferred for maintaining incompressibility and compares the results of using the different grids for the same cases. \n## Collocated Grid \nADD EXPLANATION AND PICTURE HERE (check my notes). \n## Staggered Grid\nADD EXPLANATION AND PICTURE HERE (check my notes). Advocate potential advantages \n## Comparison and table of advantages and disadvantages? \n\n\n",
      "metadata": {}
    },
    {
      "id": "a484d49d-b79a-4630-a67b-b3f3c5d4282c",
      "cell_type": "code",
      "source": "",
      "metadata": {
        "trusted": true
      },
      "outputs": [],
      "execution_count": null
    },
    {
      "id": "75c99aeb-90a9-4613-886b-2cf51e31daeb",
      "cell_type": "markdown",
      "source": "# Algorithm\nIn this section, we outline and compare two different numerical algorithms employed to solve the incompressible Navier-Stokes equations: **Chorin's Projection Method** and the **Predictor-Corrector Method**. These algorithms differ in their sequence of operations and the way they integrate the pressure and velocity fields over time. I will explain and implement both methods and compare their performance and results in terms of accuracy and computational efficiency.\n## 1st order unsplit Euler's method (cite Laurena Barba's method)  \nChorin's projection method is a widely used technique to solve the incompressible Navier-Stokes equations. The primary goal of this method is to ensure that the computed velocity field remains divergence-free (i.e., mass-conserving) at each timestep. This is achieved through two main steps: pressure projection and advection-diffusion, which are alternated to ensure the incompressibility condition.\n### Step 1. Solving the Poisson equation for pressure correction.\nThe first step in Chorin’s method is to solve the Poisson equation for the pressure, which is derived from the incompressibility condition $$\\nabla^2 p = \\nabla \\cdot \\mathbf{u}^*$$ The ultimate goal is to calculate the pressure gradient that will ensure zero divergence when performing the advection-diffusion step. \n### Step 2. Advection-Diffusion with Pressure Gradient.\nThe advection-diffusion step updates the velocity field by incorporating the pressure gradient obtained from the Poisson solver (Step 1). This step ensures the incompressibility of the flow by adjusting the velocity field based on the pressure distribution, while simultaneously advecting and diffusing the fluid. The advection-diffusion equation, which includes the pressure gradient, is:\n$$\n\\frac{\\partial \\mathbf{u}}{\\partial t} + (\\mathbf{u} \\cdot \\nabla) \\mathbf{u} = -\\frac{1}{\\rho} \\nabla p + \\nu \\nabla^2 \\mathbf{u}\n$$\n\n## Chorin's Projection method \nThe predictor-corrector algorithm is a widely used method to solve fluid dynamics equations, particularly when dealing with incompressible flows. \nThe idea is to perform the advection-diffusion step without considering the pressure gradient. This step gives us an intermediate velocity field that may not be divergence-free (it does not satisfy the incompressibility condition). Then, we correct this predicted velocity field to ensure incompressibility, using the pressure gradient computed from the Poisson equation.\n\n### Prediction Step (Advection-Diffusion).\nIn the prediction step, the velocity field is updated by solving the advection-diffusion equation without considering the pressure gradient term. This means that the velocity field evolves based on the advection of the fluid and the diffusion effects, but the incompressibility constraint is not enforced at this stage.\n$$\n\\frac{\\partial \\mathbf{u}}{\\partial t} + (\\mathbf{u} \\cdot \\nabla) \\mathbf{u} = \\nu \\nabla^2 \\mathbf{u}\n$$\nThe result of the prediction step is an intermediate velocity field which is used in the next step.\n\n### Correction Step (Apply Pressure Gradient term)\nOnce we have the intermediate velocity field, we apply the Poisson equation to solve for the pressure field. The Poisson equation ensures that the velocity field satisfies the incompressibility condition ∇⋅u=0. The equation for pressure p is:\n$$\n\\nabla^2 p = \\nabla \\cdot \\mathbf{u}^*\n$$\nAfter solving for the pressure p, we compute the pressure gradient and this gradient is then used to correct the velocity field. The corrected velocity field is computed by subtracting the pressure gradient term from the intermediate velocity:\n### Correct this (flip rho grad p\n$$\n\\mathbf{u} = \\mathbf{u}^* - \\frac{\\rho \\Delta t}{\\nabla p}\n$$\nThis method really ensures zero divergence because the Poisson equation is solved for the actual velocity field. \n\n",
      "metadata": {
        "jp-MarkdownHeadingCollapsed": true
      }
    },
    {
      "id": "a07a2690-0682-4628-8b72-771423af7472",
      "cell_type": "markdown",
      "source": "# Poisson solver \nIn incompressible flows, ensuring mass conservation requires solving the Poisson equation for pressure at each time step, based on the updated velocity field. This step is crucial for projecting the velocity field to satisfy the continuity equation:\nwhere $$\\nabla^2 p = \\nabla \\cdot \\mathbf{u}^*$$\nwhere p is the intermediate velocity field computed from the momentum equation.\nTo solve this equation efficiently, two common iterative solvers are used: Jacobi and Gauss-Seidel methods. In this section, I will explain both methods step by step, provide scripts for their implementation, and compare their performance.\n\n## Jacobi \nThe Jacobi method computes the solution iteratively by solving for each variable in terms of the others using values from the previous iteration.\n### Algorithm steps \n1. **Initialize variables.** Start with the current p field & define the RHS (b) of the Poisson equation (derived from velocity divergence). \n2. **Precompute coefficients.** Precompute p_coef and b, which are adjusted for the grid spacings. $$p_{\\text{coef}} = \\frac{1}{2(\\Delta x^2 + \\Delta y^2)}$$ $$b_{i,j} \\leftarrow b_{i,j} \\cdot \\frac{2(\\Delta x^2 + \\Delta y^2) \\rho}{\\Delta x^2 \\Delta y^2}$$ The computation of b depends on the method used (projection or predictor-corrector). \n4. **Iteration.** Jacobian update of p on the interior grid points.  $$p_{i,j}^{(k+1)} = p_{\\text{coef}} \\left[ (p_{i+1,j}^{(k)} + p_{i-1,j}^{(k)}) \\Delta y^2 + (p_{i,j+1}^{(k)} + p_{i,j-1}^{(k)}) \\Delta x^2 \\right] - b_{i,j}$$\n5. **Enforce Boundary Conditions** Apply Neumann boundary conditions $\\frac{\\partial p}{\\partial n} = 0$ in this case. This may change depending on the BC problem.\n6. **Compute Error** Calculate the root-mean-square (RMS) error between successive pressure fields: $$\\text{Error} = \\sqrt{\\frac{1}{N} \\sum_{i,j} \\left( p_{i,j}^{(k+1)} - p_{i,j}^{(k)} \\right)^2}$$\n7. **End of the iteration** Iteration automatically ends if: \n    A) Error is lower than tolerance.\n    B) Maximum number of iterations is reached.\n8. **Output** Return the final pressure field, which satisfies the Poisson equation within the specified tolerance.",
      "metadata": {}
    },
    {
      "id": "078b884a-d503-414a-9e93-27e6f0b903bf",
      "cell_type": "code",
      "source": "def pressure_poisson(p, b, dx, dy, tol, maxiter):\n    \"\"\"\n    Solve the Poisson equation for pressure correction using Jacobi's iterative method.\n\n    Parameters:\n    -----------\n    p : numpy.ndarray\n        Current pressure field. This array will be updated iteratively.\n    b : numpy.ndarray\n        Right-hand side of the Poisson equation, derived from velocity divergence.\n    dx, dy : float\n        Grid spacing in the x and y directions.\n    tol : float\n        Convergence tolerance for the root-mean-square error.\n    maxiter : int\n        Maximum number of iterations. Accelerates the speed at the beginning of the iterations. \n    rho : density. \n\n    Returns:\n    --------\n    numpy.ndarray\n        The updated pressure field that satisfies the Poisson eq. within the specified tolerance.\n\n    Notes:\n    ------\n    - Implements Jacobi's method, iteratively updating the pressure field.\n    - Enforces Neumann boundary conditions (zero pressure gradient) on all domain edges (this is just for the Cavity Flow case). \n    - The method stops when either the error falls below the specified tolerance or the maximum\n      number of iterations is reached.\n    \"\"\"\n    err = np.inf # Initialize huge error.\n    nit = 0 # Reset num iterations.\n    pcoef = 0.5 / (dx**2 + dy**2) # Simplifies code\n    b *= rho * dx**2 * dy**2 / (2*(dx**2 + dy**2))\n\n    while err > tol and nit < maxiter:\n        pn = p.copy()\n\n        p[1:-1, 1:-1] = (pcoef * ((pn[1:-1, 2:] + pn[1:-1, :-2])*dy**2\n                        + (pn[2:, 1:-1] + pn[:-2, 1:-1])*dx**2) - b)\n\n        # BCs. Openfield.\n        p[:, 0] = p[:, 1] # dp/dx=0 at x=0.\n        p[:, -1] = -p[:, -2] # p = 0 at x = L.\n        p[0, :] = p[1, :]   # dp/dy = 0 at y = 0.\n        p[-1, :] = p[-2, :] # dp/dx = 0 at y = 2.\n\n        err = np.mean((p[1:-1, 1:-1] - pn[1:-1, 1:-1])**2)**0.5\n        nit += 1\n\n    return p",
      "metadata": {
        "trusted": true,
        "jupyter": {
          "source_hidden": true
        }
      },
      "outputs": [],
      "execution_count": null
    },
    {
      "id": "63c81c77-bae5-4c2a-a3dc-1147213be122",
      "cell_type": "markdown",
      "source": "## Gauss-Seidel\nThe Gauss-Seidel method improves on Jacobi's iterative solver by updating the pressure values in-place, making it more computationally efficient. What is more, it has been implemented using Cython for an even faster convergence.\n### Algorithm steps \n1. **Initialize variables.** Start with the current p field & define the RHS (b) of the Poisson equation (derived from velocity divergence). \n2. **Precompute coefficients.** Precompute p_coef and b, which are adjusted for the grid spacings. $$p_{\\text{coef}} = \\frac{1}{2(\\Delta x^2 + \\Delta y^2)}$$ $$b_{i,j} \\leftarrow b_{i,j} \\cdot \\frac{2(\\Delta x^2 + \\Delta y^2) \\rho}{\\Delta x^2 \\Delta y^2}$$ \n4. **Iteration.** Loop through the grid, updating the pressure values in-place at each grid point using the formula: $$p_{i,j} = p_{\\text{coef}} \\left[ (p_{i,j+1} + p_{i,j-1}) \\Delta y^2 + (p_{i+1,j} + p_{i-1,j}) \\Delta x^2 \\right] - b_{i,j}$$\n5. **Enforce Boundary Conditions** Apply Neumann boundary conditions $\\frac{\\partial p}{\\partial n} = 0$ in this case. This may change depending on the BC problem.\n6. **Compute Error** Calculate the root-mean-square (RMS) error between successive pressure fields: $$\\text{Error} = \\sqrt{\\frac{1}{N} \\sum_{i,j} \\left( p_{i,j}^{(k+1)} - p_{i,j}^{(k)} \\right)^2}$$\n7. **End of the iteration** Iteration automatically ends if: \n    A) Error is lower than tolerance.\n    B) Maximum number of iterations is reached.\n8. **Output** Return the final pressure field, which satisfies the Poisson equation within the specified tolerance.\n",
      "metadata": {}
    },
    {
      "id": "39ab9aff-ab45-48ff-a2f8-2728db91f0fd",
      "cell_type": "code",
      "source": "def pressure_poisson_gauss_seidel(p, b, dx, dy, rho):\n    \"\"\"\n    Solve the Poisson equation for pressure correction using the Gauss-Seidel method.\n\n    This function iteratively solves the pressure Poisson equation, which is derived from \n    the incompressible Navier-Stokes equations to ensure mass conservation. It uses the \n    Gauss-Seidel method for in-place updates, leveraging the latest pressure estimates \n    during each iteration for faster convergence.\n\n    Parameters:\n    -----------\n    p : numpy.ndarray\n        The pressure field (2D array) that needs to be updated in order to satisfy the Poisson equation. \n    b : numpy.ndarray\n        The Poisson's equation RHS (b term, 2D array) derived from the velocity divergence.\n    dx : float\n        Grid spacing in the x-direction.\n    dy : float\n        Grid spacing in the y-direction.\n    rho : float\n        Fluid density, used to scale the source term.\n\n    Returns:\n    --------\n    p : numpy.ndarray\n        Updated pressure field satisfying the Poisson equation within the specified tolerance.\n\n    Key Features:\n    --------------\n    1. In-place updates using Gauss-Seidel accelerate convergence compared to Jacobi's method.\n    2. Enforces Neumann boundary conditions (zero pressure gradient) on all domain edges (this is just for the Cavity Flow case).\n    3. Convergence is determined based on the root-mean-square (RMS) error between iterations.\n    \"\"\"\n    err = np.inf  # Initialize a large error.\n    nit = 0  # Reset the number of iterations.\n    pcoef = 0.5 / (dx**2 + dy**2)  # Precompute coefficient for simplicity.\n    b *= rho * dx**2 * dy**2 / (2 * (dx**2 + dy**2))\n\n    while err > tol and nit < maxiter:\n        pn = p.copy()\n\n        # Gauss-Seidel in-place update\n        p = gauss_seidel_iteration(p, b, pcoef, dx, dy)\n\n        # Apply boundary conditions\n        p[:, 0] = p[:, 1] # dp/dx=0 at x=0.\n        p[:, -1] = -p[:, -2] # p = 0 at x = L.\n        p[0, :] = p[1, :]   # dp/dy = 0 at y = 0.\n        p[-1, :] = p[-2, :] # dp/dx = 0 at y = 2.\n\n        # Calculate error based on the new values\n        err = np.mean((p[1:-1, 1:-1] - pn[1:-1, 1:-1])**2)**0.5\n        nit += 1\n\n    return p",
      "metadata": {
        "trusted": true,
        "jupyter": {
          "source_hidden": true
        }
      },
      "outputs": [],
      "execution_count": null
    },
    {
      "id": "b2068de8-4150-41c8-bf23-7a7e75a81160",
      "cell_type": "markdown",
      "source": "### Performance Optimization with Cython\nTo improve the performance of the iterative solver, Cython is used. Cython is a superset of Python that allows for the inclusion of C-like performance optimizations while maintaining the ease of Python syntax. By compiling the Python code into C, it allows the iterative solver to execute much faster, which is essential for large grid sizes in computational fluid dynamics simulations.\nSpecifically, the gauss_seidel_iteration function is implemented using Cython's typed memoryviews (cnp.ndarray) to directly interact with NumPy arrays and avoid the overhead of Python's dynamic typing. This allows for efficient manipulation of large datasets typical in fluid simulations.",
      "metadata": {}
    },
    {
      "id": "adc1e0c9-320a-448f-87b4-cc47b4d39ba1",
      "cell_type": "code",
      "source": "def gauss_seidel_iteration(cnp.ndarray[cnp.double_t, ndim=2] p,\n                           cnp.ndarray[cnp.double_t, ndim=2] b,\n                           double pcoef,\n                           double dy,\n                           double dx):\n    cdef int i,j\n\n    for i in range(1,p.shape[0]-1):\n        for j in range(1,p.shape[1]-1):\n            p[i,j] = pcoef * ((p[i,j+1] + p[i,j-1]) * dy**2\n                                + (p[i+1,j] + p[i-1,j]) * dx**2) - b[i-1,j-1]\n\n    return p",
      "metadata": {
        "trusted": true
      },
      "outputs": [],
      "execution_count": null
    },
    {
      "id": "a6b28603-dc7b-4ba4-8859-19ea8dfa512f",
      "cell_type": "markdown",
      "source": "Instructions for usage:\n1. Recompile the pyx file: python setup.py build_ext --inplace\n2. Run main.py normally ",
      "metadata": {}
    },
    {
      "id": "83d606a8-465f-4281-bcae-87aaa6061a0d",
      "cell_type": "code",
      "source": "",
      "metadata": {
        "trusted": true
      },
      "outputs": [],
      "execution_count": null
    },
    {
      "id": "3038b004-e02b-4be6-bd45-59b2b6ccb933",
      "cell_type": "markdown",
      "source": "References: \n- Cython: https://cython.org/\n- Gauss Seidel and Jacobi. \n- Incompressible NS (Kelsea Boom)\n- Lorena Barba\n- Chorins paper\n- Peter's 3030 course TextBook (Check which one he s using). ",
      "metadata": {}
    }
  ]
}